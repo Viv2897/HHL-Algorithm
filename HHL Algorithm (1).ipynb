{
 "cells": [
  {
   "cell_type": "markdown",
   "id": "99c63a9a",
   "metadata": {},
   "source": [
    "# Systems of Linear Equations\n",
    "\n",
    "Systems of linear equations can be solved with arrays and NumPy. The given system of linear equations is shown below:\n",
    "\n",
    "$$ x - \\frac{1}{4}y = 4$$\n",
    "$$ -\\frac{1}{4}x +y = 0 $$\n",
    "\n",
    "NumPy's np.linalg.solve() function is used to solve this system of equations for the variables x and y\n"
   ]
  },
  {
   "cell_type": "code",
   "execution_count": 7,
   "id": "f19fbc64",
   "metadata": {},
   "outputs": [],
   "source": [
    "import numpy as np"
   ]
  },
  {
   "cell_type": "code",
   "execution_count": 8,
   "id": "ffac1fa2",
   "metadata": {},
   "outputs": [
    {
     "data": {
      "text/plain": [
       "array([4.26666667, 1.06666667])"
      ]
     },
     "execution_count": 8,
     "metadata": {},
     "output_type": "execute_result"
    }
   ],
   "source": [
    "A = np.array([[1, -1/4], [-1/4, 1]])\n",
    "b = np.array([4,0])\n",
    "x = np.linalg.solve(A, b)\n",
    "x"
   ]
  },
  {
   "cell_type": "markdown",
   "id": "e54c4336",
   "metadata": {},
   "source": [
    "x is the first entry of the array, \n",
    "y is the second entry of the array.\n",
    "The above solution matches exactly with solution gotten by gaussian elimination method on paper i.e. x = $\\frac{64}{15}$ and y =  $\\frac{16}{15}$  respectively."
   ]
  },
  {
   "cell_type": "code",
   "execution_count": 9,
   "id": "94e370e1",
   "metadata": {},
   "outputs": [
    {
     "data": {
      "text/plain": [
       "4.397979333992171"
      ]
     },
     "execution_count": 9,
     "metadata": {},
     "output_type": "execute_result"
    }
   ],
   "source": [
    "norm = np.linalg.norm(x)\n",
    "norm "
   ]
  },
  {
   "cell_type": "code",
   "execution_count": 22,
   "id": "48116a58",
   "metadata": {},
   "outputs": [
    {
     "name": "stdout",
     "output_type": "stream",
     "text": [
      "1.057790971864661\n",
      "1.0994948334980428\n"
     ]
    }
   ],
   "source": [
    "from qiskit import Aer\n",
    "from qiskit.algorithms.linear_solvers.numpy_linear_solver import NumPyLinearSolver\n",
    "from qiskit.algorithms.linear_solvers.hhl import HHL\n",
    "\n",
    "matrix = np.array([[1, -1/4], [-1/4, 1]])\n",
    "vector = np.array([4, 0])\n",
    "\n",
    "backend = Aer.get_backend('statevector_simulator')\n",
    "hhl = HHL()\n",
    "\n",
    "hhl_solution = HHL().solve(matrix, vector)\n",
    "classical_solution = NumPyLinearSolver().solve(matrix, vector / np.linalg.norm(vector))\n",
    "\n",
    "print(hhl_solution.euclidean_norm)\n",
    "print(classical_solution.euclidean_norm)"
   ]
  },
  {
   "cell_type": "code",
   "execution_count": 23,
   "id": "947a1045-9218-4b50-a77c-ea9b36fa4c7a",
   "metadata": {},
   "outputs": [
    {
     "name": "stdout",
     "output_type": "stream",
     "text": [
      "[1.06666667 0.26666667]\n"
     ]
    }
   ],
   "source": [
    "print(classical_solution.state)"
   ]
  },
  {
   "cell_type": "code",
   "execution_count": 26,
   "id": "1e2cc0c6-b3aa-420b-b203-44abe73a41ef",
   "metadata": {},
   "outputs": [
    {
     "data": {
      "image/png": "[encoded data removed]",
      "text/plain": [
       "<Figure size 474.049x325.08 with 1 Axes>"
      ]
     },
     "execution_count": 26,
     "metadata": {},
     "output_type": "execute_result"
    }
   ],
   "source": [
    "hhl_solution.state.draw('mpl', style='iqx')"
   ]
  },
  {
   "cell_type": "code",
   "execution_count": 33,
   "id": "12e72d99-c982-4cb4-af3c-e2c33d7f5dbe",
   "metadata": {},
   "outputs": [
    {
     "name": "stdout",
     "output_type": "stream",
     "text": [
      "quantum functional: 1.448349758968075\n",
      "classical functional: 1.4933333333333334\n"
     ]
    }
   ],
   "source": [
    "from qiskit.algorithms.linear_solvers.observables import AbsoluteAverage, MatrixFunctional\n",
    "\n",
    "observable = MatrixFunctional(1, 1 / 2)\n",
    "\n",
    "functional_solution = HHL().solve(matrix, vector, observable)\n",
    "classical_functional = NumPyLinearSolver().solve(matrix, vector / np.linalg.norm(vector), observable)\n",
    "\n",
    "print('quantum functional:', functional_solution.observable)\n",
    "print('classical functional:', classical_functional.observable)"
   ]
  }
 ],
 "metadata": {
  "kernelspec": {
   "display_name": "Python 3",
   "language": "python",
   "name": "python3"
  },
  "language_info": {
   "codemirror_mode": {
    "name": "ipython",
    "version": 3
   },
   "file_extension": ".py",
   "mimetype": "text/x-python",
   "name": "python",
   "nbconvert_exporter": "python",
   "pygments_lexer": "ipython3",
   "version": "3.8.8"
  },
  "widgets": {
   "application/vnd.jupyter.widget-state+json": {
    "state": {
     "04e2ac747f92441597c8fc5c2e49d6fd": {
      "model_module": "@jupyter-widgets/controls",
      "model_module_version": "1.5.0",
      "model_name": "HTMLModel",
      "state": {
       "layout": "IPY_MODEL_4e6344c519294e609666f442a94e4ecd",
       "style": "IPY_MODEL_e57997d0fbc641f9a45d4b316a84b624",
       "value": "<p style='font-family: IBM Plex Sans, Arial, Helvetica, sans-serif; font-size: 20px; font-weight: medium;'>Circuit Properties</p>"
      }
     },
     "0527de9d54074aefb878a28daccc2103": {
      "model_module": "@jupyter-widgets/base",
      "model_module_version": "1.2.0",
      "model_name": "LayoutModel",
      "state": {
       "width": "190px"
      }
     },
     "072899c7387c4215989f1d7a2f7ed460": {
      "model_module": "@jupyter-widgets/controls",
      "model_module_version": "1.5.0",
      "model_name": "DescriptionStyleModel",
      "state": {
       "description_width": ""
      }
     },
     "0bca622ecda74ff995a3e1359434e0d2": {
      "model_module": "@jupyter-widgets/controls",
      "model_module_version": "1.5.0",
      "model_name": "HBoxModel",
      "state": {
       "children": [
        "IPY_MODEL_7f061a24b70b41cfa7ed2686b4d4b2fe",
        "IPY_MODEL_b5c89f4ced484266afb9fb55154dc102",
        "IPY_MODEL_af643f34c22a4653ac43b9c6e8b763f1",
        "IPY_MODEL_aaeaf0f4034d4f758ca79268c7abe26b",
        "IPY_MODEL_50003a4c0e7d431b9e1ef1cb3c9230b0"
       ],
       "layout": "IPY_MODEL_610e07039eee4a02bdafefc3f516cfdd"
      }
     },
     "0c6ba1f8843b44248126370541e31e85": {
      "model_module": "@jupyter-widgets/controls",
      "model_module_version": "1.5.0",
      "model_name": "ButtonStyleModel",
      "state": {}
     },
     "0fda08071f68409bb3f3d5e71bd5f592": {
      "model_module": "@jupyter-widgets/base",
      "model_module_version": "1.2.0",
      "model_name": "LayoutModel",
      "state": {
       "grid_area": "right",
       "padding": "0px 0px 0px 0px",
       "width": "70px"
      }
     },
     "17d206c35fb8428bab48ed219eb0f5d1": {
      "model_module": "@jupyter-widgets/controls",
      "model_module_version": "1.5.0",
      "model_name": "ButtonModel",
      "state": {
       "button_style": "primary",
       "description": "Clear",
       "layout": "IPY_MODEL_0fda08071f68409bb3f3d5e71bd5f592",
       "style": "IPY_MODEL_0c6ba1f8843b44248126370541e31e85"
      }
     },
     "235f69a99c2042caa19cc6be7599532a": {
      "model_module": "@jupyter-widgets/base",
      "model_module_version": "1.2.0",
      "model_name": "LayoutModel",
      "state": {
       "grid_template_areas": "\n                                       \". . . . right \"\n                                        ",
       "grid_template_columns": "20% 20% 20% 20% 20%",
       "width": "100%"
      }
     },
     "4e6344c519294e609666f442a94e4ecd": {
      "model_module": "@jupyter-widgets/base",
      "model_module_version": "1.2.0",
      "model_name": "LayoutModel",
      "state": {
       "margin": "0px 0px 10px 0px"
      }
     },
     "50003a4c0e7d431b9e1ef1cb3c9230b0": {
      "model_module": "@jupyter-widgets/controls",
      "model_module_version": "1.5.0",
      "model_name": "HTMLModel",
      "state": {
       "layout": "IPY_MODEL_f457f810b9f24129be228b725cd7a05c",
       "style": "IPY_MODEL_d9c1549525434a019a3f6c9c94d365e8",
       "value": "<h5>Message</h5>"
      }
     },
     "610e07039eee4a02bdafefc3f516cfdd": {
      "model_module": "@jupyter-widgets/base",
      "model_module_version": "1.2.0",
      "model_name": "LayoutModel",
      "state": {
       "margin": "0px 0px 0px 37px",
       "width": "600px"
      }
     },
     "7f061a24b70b41cfa7ed2686b4d4b2fe": {
      "model_module": "@jupyter-widgets/controls",
      "model_module_version": "1.5.0",
      "model_name": "HTMLModel",
      "state": {
       "layout": "IPY_MODEL_0527de9d54074aefb878a28daccc2103",
       "style": "IPY_MODEL_072899c7387c4215989f1d7a2f7ed460",
       "value": "<h5>Job ID</h5>"
      }
     },
     "aaeaf0f4034d4f758ca79268c7abe26b": {
      "model_module": "@jupyter-widgets/controls",
      "model_module_version": "1.5.0",
      "model_name": "HTMLModel",
      "state": {
       "layout": "IPY_MODEL_d175e0c2d32c414cb3fa76b5e030cfc3",
       "style": "IPY_MODEL_e267c4ff3d34465dba14edf669e393d5",
       "value": "<h5>Queue</h5>"
      }
     },
     "af643f34c22a4653ac43b9c6e8b763f1": {
      "model_module": "@jupyter-widgets/controls",
      "model_module_version": "1.5.0",
      "model_name": "HTMLModel",
      "state": {
       "layout": "IPY_MODEL_dbd3f9ce42e4405ea7f5d591b01c5022",
       "style": "IPY_MODEL_cfae6114dcc04f86b61e16e37057c38d",
       "value": "<h5>Status</h5>"
      }
     },
     "b5c89f4ced484266afb9fb55154dc102": {
      "model_module": "@jupyter-widgets/controls",
      "model_module_version": "1.5.0",
      "model_name": "HTMLModel",
      "state": {
       "layout": "IPY_MODEL_df6a97bfd738469cb7447d9f35dfb8c1",
       "style": "IPY_MODEL_b851ca4c7f6c4b60a5f10ce4227d33dc",
       "value": "<h5>Backend</h5>"
      }
     },
     "b851ca4c7f6c4b60a5f10ce4227d33dc": {
      "model_module": "@jupyter-widgets/controls",
      "model_module_version": "1.5.0",
      "model_name": "DescriptionStyleModel",
      "state": {
       "description_width": ""
      }
     },
     "b899fc1e4bd941629280547b0bc78bd4": {
      "model_module": "@jupyter-widgets/controls",
      "model_module_version": "1.5.0",
      "model_name": "GridBoxModel",
      "state": {
       "children": [
        "IPY_MODEL_17d206c35fb8428bab48ed219eb0f5d1"
       ],
       "layout": "IPY_MODEL_235f69a99c2042caa19cc6be7599532a"
      }
     },
     "cfae6114dcc04f86b61e16e37057c38d": {
      "model_module": "@jupyter-widgets/controls",
      "model_module_version": "1.5.0",
      "model_name": "DescriptionStyleModel",
      "state": {
       "description_width": ""
      }
     },
     "d175e0c2d32c414cb3fa76b5e030cfc3": {
      "model_module": "@jupyter-widgets/base",
      "model_module_version": "1.2.0",
      "model_name": "LayoutModel",
      "state": {
       "width": "70px"
      }
     },
     "d9c1549525434a019a3f6c9c94d365e8": {
      "model_module": "@jupyter-widgets/controls",
      "model_module_version": "1.5.0",
      "model_name": "DescriptionStyleModel",
      "state": {
       "description_width": ""
      }
     },
     "dbd3f9ce42e4405ea7f5d591b01c5022": {
      "model_module": "@jupyter-widgets/base",
      "model_module_version": "1.2.0",
      "model_name": "LayoutModel",
      "state": {
       "width": "95px"
      }
     },
     "df6a97bfd738469cb7447d9f35dfb8c1": {
      "model_module": "@jupyter-widgets/base",
      "model_module_version": "1.2.0",
      "model_name": "LayoutModel",
      "state": {
       "width": "145px"
      }
     },
     "e267c4ff3d34465dba14edf669e393d5": {
      "model_module": "@jupyter-widgets/controls",
      "model_module_version": "1.5.0",
      "model_name": "DescriptionStyleModel",
      "state": {
       "description_width": ""
      }
     },
     "e57997d0fbc641f9a45d4b316a84b624": {
      "model_module": "@jupyter-widgets/controls",
      "model_module_version": "1.5.0",
      "model_name": "DescriptionStyleModel",
      "state": {
       "description_width": ""
      }
     },
     "f457f810b9f24129be228b725cd7a05c": {
      "model_module": "@jupyter-widgets/base",
      "model_module_version": "1.2.0",
      "model_name": "LayoutModel",
      "state": {}
     }
    },
    "version_major": 2,
    "version_minor": 0
   }
  }
 },
 "nbformat": 4,
 "nbformat_minor": 5
}
